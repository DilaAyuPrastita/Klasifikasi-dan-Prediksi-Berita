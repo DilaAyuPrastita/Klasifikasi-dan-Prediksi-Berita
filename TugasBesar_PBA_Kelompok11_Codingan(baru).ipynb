{
  "nbformat": 4,
  "nbformat_minor": 0,
  "metadata": {
    "colab": {
      "provenance": []
    },
    "kernelspec": {
      "name": "python3",
      "display_name": "Python 3"
    },
    "language_info": {
      "name": "python"
    }
  },
  "cells": [
    {
      "cell_type": "markdown",
      "source": [
        "# **KLASIFIKASI KATEGORI BERITA BRITISH BROADCASTING CORPORATION (BBC) MENGGUNAKAN METODE RECURRENT NEURAL NETWORK (RNN) DAN NAIVE BAYES CLASSIFIER**"
      ],
      "metadata": {
        "id": "bMNzq7Hkxlkh"
      }
    },
    {
      "cell_type": "code",
      "source": [
        "import pandas as pd\n",
        "\n",
        "df = pd.read_csv('/content/bbc-text.csv',engine='python')\n",
        "# df.columns = map(str.lower, df.columns)\n",
        "df[\"text\"] = df[\"text\"].astype(str)\n",
        "corpus = df['text'].tolist()\n",
        "corpus[0][0:447]\n",
        "\n",
        "print(f\"Jumlah dataset: {len(df)}\")\n",
        "print(df.head(10))"
      ],
      "metadata": {
        "colab": {
          "base_uri": "https://localhost:8080/"
        },
        "id": "jGhArhKsbIKi",
        "outputId": "3ab1773b-fcbd-40ea-8c2a-76b30562d83f"
      },
      "execution_count": null,
      "outputs": [
        {
          "output_type": "stream",
          "name": "stdout",
          "text": [
            "Jumlah dataset: 2225\n",
            "        category                                               text\n",
            "0           tech  tv future in the hands of viewers with home th...\n",
            "1       business  worldcom boss  left books alone  former worldc...\n",
            "2          sport  tigers wary of farrell  gamble  leicester say ...\n",
            "3          sport  yeading face newcastle in fa cup premiership s...\n",
            "4  entertainment  ocean s twelve raids box office ocean s twelve...\n",
            "5       politics  howard hits back at mongrel jibe michael howar...\n",
            "6       politics  blair prepares to name poll date tony blair is...\n",
            "7          sport  henman hopes ended in dubai third seed tim hen...\n",
            "8          sport  wilkinson fit to face edinburgh england captai...\n",
            "9  entertainment  last star wars  not for children  the sixth an...\n"
          ]
        }
      ]
    },
    {
      "cell_type": "markdown",
      "source": [
        "**1. Preprocessing**"
      ],
      "metadata": {
        "id": "QNdFFHgwLGdC"
      }
    },
    {
      "cell_type": "code",
      "source": [
        "!pip install unidecode\n",
        "\n",
        "import nltk\n",
        "nltk.download('punkt_tab')\n",
        "nltk.download('stopwords')\n",
        "nltk.download('punkt')\n",
        "nltk.download('wordnet')"
      ],
      "metadata": {
        "colab": {
          "base_uri": "https://localhost:8080/"
        },
        "id": "qclrZ3W7H-WC",
        "outputId": "74969a91-95f2-490f-cf57-f07930a981da"
      },
      "execution_count": null,
      "outputs": [
        {
          "output_type": "stream",
          "name": "stdout",
          "text": [
            "Requirement already satisfied: unidecode in /usr/local/lib/python3.10/dist-packages (1.3.8)\n"
          ]
        },
        {
          "output_type": "stream",
          "name": "stderr",
          "text": [
            "[nltk_data] Downloading package punkt_tab to /root/nltk_data...\n",
            "[nltk_data]   Package punkt_tab is already up-to-date!\n",
            "[nltk_data] Downloading package stopwords to /root/nltk_data...\n",
            "[nltk_data]   Package stopwords is already up-to-date!\n",
            "[nltk_data] Downloading package punkt to /root/nltk_data...\n",
            "[nltk_data]   Package punkt is already up-to-date!\n",
            "[nltk_data] Downloading package wordnet to /root/nltk_data...\n",
            "[nltk_data]   Package wordnet is already up-to-date!\n"
          ]
        },
        {
          "output_type": "execute_result",
          "data": {
            "text/plain": [
              "True"
            ]
          },
          "metadata": {},
          "execution_count": 13
        }
      ]
    },
    {
      "cell_type": "code",
      "source": [
        "import nltk\n",
        "import numpy as np\n",
        "import pandas as pd\n",
        "import geopandas as gpd\n",
        "import json\n",
        "import re\n",
        "import nltk.corpus\n",
        "from unidecode import unidecode\n",
        "from nltk.tokenize import word_tokenize\n",
        "from nltk.corpus import stopwords\n",
        "from nltk.stem import WordNetLemmatizer\n",
        "from nltk import SnowballStemmer\n",
        "from sklearn.feature_extraction.text import TfidfVectorizer\n",
        "from sklearn.preprocessing import normalize\n",
        "from pandas import DataFrame\n",
        "\n",
        "# Preprocessing function with case folding, tokenization, stopword removal, and lemmatization\n",
        "def processCorpus(corpus, language):\n",
        "    stop_words = set(stopwords.words(language)) # Load stopwords for the specified language\n",
        "    lemmatizer = WordNetLemmatizer() # Initialize lemmatizer\n",
        "\n",
        "    processed_corpus = []\n",
        "    for document in corpus:\n",
        "        # Case folding: make all text lowercase\n",
        "        document = document.casefold()\n",
        "\n",
        "        # Remove unwanted characters using regex (your existing code)\n",
        "        document = re.sub(u'\\ufffd', '8', document) # Mengganti simbol '?' dengan '8'\n",
        "        document = re.sub(r',', '', document) # Menghapus koma\n",
        "        document = re.sub(r'\\W_', ' ', document) # Menghapus karakter spesial\n",
        "        document = re.sub(r\"\\S*\\d\\S*\", \" \", document) # Menghapus angka atau kombinasi kata-angka (contoh: h4ck3r)\n",
        "        document = re.sub(r\"\\S*@\\S*\\s?\", \" \", document) # Menghapus email atau mention\n",
        "        document = re.sub(r'http\\S+', '', document) # Menghapus URL yang diawali dengan 'http'\n",
        "        document = re.sub(r'www\\S+', '', document) # Menghapus URL yang diawali dengan 'www'\n",
        "        document = re.sub(r'[^\\w]|_', ' ', document) # Menghapus semua karakter non-alphanumeric kecuali spasi\n",
        "        document = re.sub(r'[\\s]+', ' ', document) # Menghapus spasi berlebih\n",
        "\n",
        "        # Tokenization\n",
        "        listOfTokens = word_tokenize(document)\n",
        "\n",
        "        # Remove stopwords\n",
        "        listOfTokens = [token for token in listOfTokens if token not in stop_words]\n",
        "\n",
        "        # Remove short or excessively long words\n",
        "        listOfTokens = [token for token in listOfTokens if 2 < len(token) < 21]\n",
        "\n",
        "        # Lemmatization\n",
        "        listOfTokens = [lemmatizer.lemmatize(token) for token in listOfTokens]\n",
        "\n",
        "        # Combine tokens back into a single string\n",
        "        processed_document = unidecode(\" \".join(listOfTokens))\n",
        "        processed_corpus.append(processed_document)\n",
        "\n",
        "    return processed_corpus\n",
        "\n",
        "# Example usage\n",
        "language = 'english'\n",
        "processed_corpus = processCorpus(corpus, language)\n",
        "\n",
        "df['text'] = processed_corpus # Memperbarui kolom text pada DataFrame df dengan hasil processed_corpus\n",
        "\n",
        "print(df.head())\n",
        "print(df.isnull().sum())\n"
      ],
      "metadata": {
        "colab": {
          "base_uri": "https://localhost:8080/"
        },
        "id": "18L8BaPDHLEf",
        "outputId": "dd31083b-a256-48db-8f67-211c51c68b18"
      },
      "execution_count": null,
      "outputs": [
        {
          "output_type": "stream",
          "name": "stdout",
          "text": [
            "        category                                               text\n",
            "0           tech  future hand viewer home theatre system plasma ...\n",
            "1       business  worldcom bos left book alone former worldcom b...\n",
            "2          sport  tiger wary farrell gamble leicester say rushed...\n",
            "3          sport  yeading face newcastle cup premiership side ne...\n",
            "4  entertainment  ocean twelve raid box office ocean twelve crim...\n",
            "category    0\n",
            "text        0\n",
            "dtype: int64\n"
          ]
        }
      ]
    },
    {
      "cell_type": "code",
      "source": [
        "# Display the results for the first 10 data points\n",
        "for i in range(10):\n",
        "    original_text = corpus[i]\n",
        "    processed_text = processed_corpus[i]\n",
        "    print(f\"Original Text:\\n{original_text}\\n\")\n",
        "    print(f\"Processed Text:\\n{processed_text}\\n---\")"
      ],
      "metadata": {
        "colab": {
          "base_uri": "https://localhost:8080/"
        },
        "id": "9QOjDkNKPrhy",
        "outputId": "213abc5d-6be0-40d6-a0c6-a14f60b6bc4d"
      },
      "execution_count": null,
      "outputs": [
        {
          "output_type": "stream",
          "name": "stdout",
          "text": [
            "Original Text:\n",
            "tv future in the hands of viewers with home theatre systems  plasma high-definition tvs  and digital video recorders moving into the living room  the way people watch tv will be radically different in five years  time.  that is according to an expert panel which gathered at the annual consumer electronics show in las vegas to discuss how these new technologies will impact one of our favourite pastimes. with the us leading the trend  programmes and other content will be delivered to viewers via home networks  through cable  satellite  telecoms companies  and broadband service providers to front rooms and portable devices.  one of the most talked-about technologies of ces has been digital and personal video recorders (dvr and pvr). these set-top boxes  like the us s tivo and the uk s sky+ system  allow people to record  store  play  pause and forward wind tv programmes when they want.  essentially  the technology allows for much more personalised tv. they are also being built-in to high-definition tv sets  which are big business in japan and the us  but slower to take off in europe because of the lack of high-definition programming. not only can people forward wind through adverts  they can also forget about abiding by network and channel schedules  putting together their own a-la-carte entertainment. but some us networks and cable and satellite companies are worried about what it means for them in terms of advertising revenues as well as  brand identity  and viewer loyalty to channels. although the us leads in this technology at the moment  it is also a concern that is being raised in europe  particularly with the growing uptake of services like sky+.  what happens here today  we will see in nine months to a years  time in the uk   adam hume  the bbc broadcast s futurologist told the bbc news website. for the likes of the bbc  there are no issues of lost advertising revenue yet. it is a more pressing issue at the moment for commercial uk broadcasters  but brand loyalty is important for everyone.  we will be talking more about content brands rather than network brands   said tim hanlon  from brand communications firm starcom mediavest.  the reality is that with broadband connections  anybody can be the producer of content.  he added:  the challenge now is that it is hard to promote a programme with so much choice.   what this means  said stacey jolna  senior vice president of tv guide tv group  is that the way people find the content they want to watch has to be simplified for tv viewers. it means that networks  in us terms  or channels could take a leaf out of google s book and be the search engine of the future  instead of the scheduler to help people find what they want to watch. this kind of channel model might work for the younger ipod generation which is used to taking control of their gadgets and what they play on them. but it might not suit everyone  the panel recognised. older generations are more comfortable with familiar schedules and channel brands because they know what they are getting. they perhaps do not want so much of the choice put into their hands  mr hanlon suggested.  on the other end  you have the kids just out of diapers who are pushing buttons already - everything is possible and available to them   said mr hanlon.  ultimately  the consumer will tell the market they want.   of the 50 000 new gadgets and technologies being showcased at ces  many of them are about enhancing the tv-watching experience. high-definition tv sets are everywhere and many new models of lcd (liquid crystal display) tvs have been launched with dvr capability built into them  instead of being external boxes. one such example launched at the show is humax s 26-inch lcd tv with an 80-hour tivo dvr and dvd recorder. one of the us s biggest satellite tv companies  directtv  has even launched its own branded dvr at the show with 100-hours of recording capability  instant replay  and a search function. the set can pause and rewind tv for up to 90 hours. and microsoft chief bill gates announced in his pre-show keynote speech a partnership with tivo  called tivotogo  which means people can play recorded programmes on windows pcs and mobile devices. all these reflect the increasing trend of freeing up multimedia so that people can watch what they want  when they want.\n",
            "\n",
            "Processed Text:\n",
            "future hand viewer home theatre system plasma high definition tv digital video recorder moving living room way people watch radically different five year time according expert panel gathered annual consumer electronics show la vega discus new technology impact one favourite pastime leading trend programme content delivered viewer via home network cable satellite telecom company broadband service provider front room portable device one talked technology ce digital personal video recorder dvr pvr set top box like tivo sky system allow people record store play pause forward wind programme want essentially technology allows much personalised also built high definition set big business japan slower take europe lack high definition programming people forward wind advert also forget abiding network channel schedule putting together carte entertainment network cable satellite company worried mean term advertising revenue well brand identity viewer loyalty channel although lead technology moment also concern raised europe particularly growing uptake service like sky happens today see nine month year time adam hume bbc broadcast futurologist told bbc news website like bbc issue lost advertising revenue yet pressing issue moment commercial broadcaster brand loyalty important everyone talking content brand rather network brand said tim hanlon brand communication firm starcom mediavest reality broadband connection anybody producer content added challenge hard promote programme much choice mean said stacey jolna senior vice president guide group way people find content want watch simplified viewer mean network term channel could take leaf google book search engine future instead scheduler help people find want watch kind channel model might work younger ipod generation used taking control gadget play might suit everyone panel recognised older generation comfortable familiar schedule channel brand know getting perhaps want much choice put hand hanlon suggested end kid diaper pushing button already everything possible available said hanlon ultimately consumer tell market want new gadget technology showcased ce many enhancing watching experience high definition set everywhere many new model lcd liquid crystal display tv launched dvr capability built instead external box one example launched show humax lcd tivo dvr dvd recorder one biggest satellite company directtv even launched branded dvr show recording capability instant replay search function set pause rewind hour microsoft chief bill gate announced pre show keynote speech partnership tivo called tivotogo mean people play recorded programme window pc mobile device reflect increasing trend freeing multimedia people watch want want\n",
            "---\n",
            "Original Text:\n",
            "worldcom boss  left books alone  former worldcom boss bernie ebbers  who is accused of overseeing an $11bn (£5.8bn) fraud  never made accounting decisions  a witness has told jurors.  david myers made the comments under questioning by defence lawyers who have been arguing that mr ebbers was not responsible for worldcom s problems. the phone company collapsed in 2002 and prosecutors claim that losses were hidden to protect the firm s shares. mr myers has already pleaded guilty to fraud and is assisting prosecutors.  on monday  defence lawyer reid weingarten tried to distance his client from the allegations. during cross examination  he asked mr myers if he ever knew mr ebbers  make an accounting decision  .  not that i am aware of   mr myers replied.  did you ever know mr ebbers to make an accounting entry into worldcom books   mr weingarten pressed.  no   replied the witness. mr myers has admitted that he ordered false accounting entries at the request of former worldcom chief financial officer scott sullivan. defence lawyers have been trying to paint mr sullivan  who has admitted fraud and will testify later in the trial  as the mastermind behind worldcom s accounting house of cards.  mr ebbers  team  meanwhile  are looking to portray him as an affable boss  who by his own admission is more pe graduate than economist. whatever his abilities  mr ebbers transformed worldcom from a relative unknown into a $160bn telecoms giant and investor darling of the late 1990s. worldcom s problems mounted  however  as competition increased and the telecoms boom petered out. when the firm finally collapsed  shareholders lost about $180bn and 20 000 workers lost their jobs. mr ebbers  trial is expected to last two months and if found guilty the former ceo faces a substantial jail sentence. he has firmly declared his innocence.\n",
            "\n",
            "Processed Text:\n",
            "worldcom bos left book alone former worldcom bos bernie ebbers accused overseeing fraud never made accounting decision witness told juror david myers made comment questioning defence lawyer arguing ebbers responsible worldcom problem phone company collapsed prosecutor claim loss hidden protect firm share myers already pleaded guilty fraud assisting prosecutor monday defence lawyer reid weingarten tried distance client allegation cross examination asked myers ever knew ebbers make accounting decision aware myers replied ever know ebbers make accounting entry worldcom book weingarten pressed replied witness myers admitted ordered false accounting entry request former worldcom chief financial officer scott sullivan defence lawyer trying paint sullivan admitted fraud testify later trial mastermind behind worldcom accounting house card ebbers team meanwhile looking portray affable bos admission graduate economist whatever ability ebbers transformed worldcom relative unknown telecom giant investor darling late worldcom problem mounted however competition increased telecom boom petered firm finally collapsed shareholder lost worker lost job ebbers trial expected last two month found guilty former ceo face substantial jail sentence firmly declared innocence\n",
            "---\n",
            "Original Text:\n",
            "tigers wary of farrell  gamble  leicester say they will not be rushed into making a bid for andy farrell should the great britain rugby league captain decide to switch codes.   we and anybody else involved in the process are still some way away from going to the next stage   tigers boss john wells told bbc radio leicester.  at the moment  there are still a lot of unknowns about andy farrell  not least his medical situation.  whoever does take him on is going to take a big  big gamble.  farrell  who has had persistent knee problems  had an operation on his knee five weeks ago and is expected to be out for another three months. leicester and saracens are believed to head the list of rugby union clubs interested in signing farrell if he decides to move to the 15-man game.  if he does move across to union  wells believes he would better off playing in the backs  at least initially.  i m sure he could make the step between league and union by being involved in the centre   said wells.  i think england would prefer him to progress to a position in the back row where they can make use of some of his rugby league skills within the forwards.  the jury is out on whether he can cross that divide.  at this club  the balance will have to be struck between the cost of that gamble and the option of bringing in a ready-made replacement.\n",
            "\n",
            "Processed Text:\n",
            "tiger wary farrell gamble leicester say rushed making bid andy farrell great britain rugby league captain decide switch code anybody else involved process still way away going next stage tiger bos john well told bbc radio leicester moment still lot unknown andy farrell least medical situation whoever take going take big big gamble farrell persistent knee problem operation knee five week ago expected another three month leicester saracen believed head list rugby union club interested signing farrell decides move game move across union well belief would better playing back least initially sure could make step league union involved centre said well think england would prefer progress position back row make use rugby league skill within forward jury whether cross divide club balance struck cost gamble option bringing ready made replacement\n",
            "---\n",
            "Original Text:\n",
            "yeading face newcastle in fa cup premiership side newcastle united face a trip to ryman premier league leaders yeading in the fa cup third round.  the game - arguably the highlight of the draw - is a potential money-spinner for non-league yeading  who beat slough in the second round. conference side exeter city  who knocked out doncaster on saturday  will travel to old trafford to meet holders manchester united in january. arsenal were drawn at home to stoke and chelsea will play host to scunthorpe. the only other non-league side in the draw are hinckley united  who held brentford to a goalless draw on sunday. they will meet league one leaders luton if they win their replay against martin allen s team at griffin park.  a number of premiership teams face difficult away games against championship sides on the weekend of 8/9 january. third-placed everton visit plymouth  liverpool travel to burnley  crystal palace go to sunderland  fulham face carling cup semi-finalists watford  bolton meet ipswich  while aston villa were drawn against sheffield united. premiership strugglers norwich  blackburn  west brom are away at west ham  cardiff and preston north end respectively. southampton visit northampton  having already beaten the league two side in the carling cup earlier this season. middlesbrough were drawn away against either swindon or notts county  while spurs entertain brighton at white hart lane.  arsenal v stoke  swindon/notts co v middlesbrough  man utd v exeter  plymouth v everton  leicester v blackpool  derby v wigan  sunderland v crystal palace  wolves v millwall  yeading v newcastle  hull v colchester  tottenham v brighton  reading v stockport/swansea  birmingham v leeds  hartlepool v boston  milton keynes dons v peterborough  oldham v man city  chelsea v scunthorpe  cardiff v blackburn  charlton v rochdale  west ham v norwich  sheff utd v aston villa  preston v west brom  rotherham v yeovil  burnley v liverpool  bournemouth v chester  coventry v crewe  watford v fulham  ipswich v bolton  portsmouth v gillingham  northampton v southampton  qpr v nottm forest  luton v hinckley/brentford  matches to be played on weekend of 8/9 january.\n",
            "\n",
            "Processed Text:\n",
            "yeading face newcastle cup premiership side newcastle united face trip ryman premier league leader yeading cup third round game arguably highlight draw potential money spinner non league yeading beat slough second round conference side exeter city knocked doncaster saturday travel old trafford meet holder manchester united january arsenal drawn home stoke chelsea play host scunthorpe non league side draw hinckley united held brentford goalless draw sunday meet league one leader luton win replay martin allen team griffin park number premiership team face difficult away game championship side weekend january third placed everton visit plymouth liverpool travel burnley crystal palace sunderland fulham face carling cup semi finalist watford bolton meet ipswich aston villa drawn sheffield united premiership struggler norwich blackburn west brom away west ham cardiff preston north end respectively southampton visit northampton already beaten league two side carling cup earlier season middlesbrough drawn away either swindon notts county spur entertain brighton white hart lane arsenal stoke swindon notts middlesbrough man utd exeter plymouth everton leicester blackpool derby wigan sunderland crystal palace wolf millwall yeading newcastle hull colchester tottenham brighton reading stockport swansea birmingham leeds hartlepool boston milton keynes don peterborough oldham man city chelsea scunthorpe cardiff blackburn charlton rochdale west ham norwich sheff utd aston villa preston west brom rotherham yeovil burnley liverpool bournemouth chester coventry crewe watford fulham ipswich bolton portsmouth gillingham northampton southampton qpr nottm forest luton hinckley brentford match played weekend january\n",
            "---\n",
            "Original Text:\n",
            "ocean s twelve raids box office ocean s twelve  the crime caper sequel starring george clooney  brad pitt and julia roberts  has gone straight to number one in the us box office chart.  it took $40.8m (£21m) in weekend ticket sales  according to studio estimates. the sequel follows the master criminals as they try to pull off three major heists across europe. it knocked last week s number one  national treasure  into third place. wesley snipes  blade: trinity was in second  taking $16.1m (£8.4m). rounding out the top five was animated fable the polar express  starring tom hanks  and festive comedy christmas with the kranks.  ocean s twelve box office triumph marks the fourth-biggest opening for a december release in the us  after the three films in the lord of the rings trilogy. the sequel narrowly beat its 2001 predecessor  ocean s eleven which took $38.1m (£19.8m) on its opening weekend and $184m (£95.8m) in total. a remake of the 1960s film  starring frank sinatra and the rat pack  ocean s eleven was directed by oscar-winning director steven soderbergh. soderbergh returns to direct the hit sequel which reunites clooney  pitt and roberts with matt damon  andy garcia and elliott gould. catherine zeta-jones joins the all-star cast.  it s just a fun  good holiday movie   said dan fellman  president of distribution at warner bros. however  us critics were less complimentary about the $110m (£57.2m) project  with the los angeles times labelling it a  dispiriting vanity project . a milder review in the new york times dubbed the sequel  unabashedly trivial .\n",
            "\n",
            "Processed Text:\n",
            "ocean twelve raid box office ocean twelve crime caper sequel starring george clooney brad pitt julia robert gone straight number one box office chart took weekend ticket sale according studio estimate sequel follows master criminal try pull three major heist across europe knocked last week number one national treasure third place wesley snipe blade trinity second taking rounding top five animated fable polar express starring tom hank festive comedy christmas kranks ocean twelve box office triumph mark fourth biggest opening december release three film lord ring trilogy sequel narrowly beat predecessor ocean eleven took opening weekend total remake film starring frank sinatra rat pack ocean eleven directed oscar winning director steven soderbergh soderbergh return direct hit sequel reunites clooney pitt robert matt damon andy garcia elliott gould catherine zeta jones join star cast fun good holiday movie said dan fellman president distribution warner bros however critic less complimentary project los angeles time labelling dispiriting vanity project milder review new york time dubbed sequel unabashedly trivial\n",
            "---\n",
            "Original Text:\n",
            "howard hits back at mongrel jibe michael howard has said a claim by peter hain that the tory leader is acting like an  attack mongrel  shows labour is  rattled  by the opposition.  in an upbeat speech to his party s spring conference in brighton  he said labour s campaigning tactics proved the tories were hitting home. mr hain made the claim about tory tactics in the anti-terror bill debate.  something tells me that someone  somewhere out there is just a little bit rattled   mr howard said. mr hain  leader of the commons  told bbc radio four s today programme that mr howard s stance on the government s anti-terrorism legislation was putting the country at risk. he then accused the tory leader of behaving like an  attack mongrel  and  playing opposition for opposition sake .  mr howard told his party that labour would  do anything  say anything  claim anything to cling on to office at all costs .  so far this year they have compared me to fagin  to shylock and to a flying pig. this morning peter hain even called me a mongrel.  i don t know about you  but something tells me that someone  somewhere out there is just a little bit rattled.  environment secretary margaret beckett rejected mr howard s comment  telling radio 4 s pm programme that labour was not  rattled .  we have a very real duty to try to get people to focus on michael howard s record  what the proposals are that he is trying to put forward to the country and also the many examples we are seeing now of what we believe is really poor judgement on his behalf.   mr howard said tory policies on schools  taxes  immigration and crime were striking a chord with voters.   since the beginning of this year - election year - we ve been making the political weather   he told the party conference. mr howard denied he had been  playing politics  by raising the case of margaret dixon  whose operation had been cancelled seven times  which grabbed headlines for the party two weeks ago. and he hit back at labour claims he had used mrs dixon as a  human shield .  she s not a human shield mr blair  she s a human being.  mr howard said his party plans for immigration quotas  which have also been the focus of much media coverage  were not  racist  - just  common sense .  he pledged cleaner hospitals and better school discipline  with a promise to get rid of  political correctness  in the national curriculum and give everyone to the same chance of a  decent  state education as he had.  i come from an ordinary family. if the teenage michael howard were applying to cambridge today  gordon brown would love me.   and he stressed his party s commitment to cut taxes and red tape and increase the basic state pension in line with earnings. he finished with a personal appeal to party activists to go out and win the next election.  one day you will be able to tell your children and grandchildren as i will tell mine   i was there. i did my bit. i played my part. i helped to win that famous election - the election that transformed our country for the better .  labour election co-ordinator alan milburn said:  michael howard s speech today confirms what we have always said - that his only strategy is opportunism but he has no forward vision for the country. in reference to the appearance of mr howard s family on the conference stage with him  mr milburn said:  michael howard is perfectly entitled to pose with his family today.  but it is the hard working families across britain that will be damaged by his plan to cut £35bn from public spending.\n",
            "\n",
            "Processed Text:\n",
            "howard hit back mongrel jibe michael howard said claim peter hain tory leader acting like attack mongrel show labour rattled opposition upbeat speech party spring conference brighton said labour campaigning tactic proved tory hitting home hain made claim tory tactic anti terror bill debate something tell someone somewhere little bit rattled howard said hain leader common told bbc radio four today programme howard stance government anti terrorism legislation putting country risk accused tory leader behaving like attack mongrel playing opposition opposition sake howard told party labour would anything say anything claim anything cling office cost far year compared fagin shylock flying pig morning peter hain even called mongrel know something tell someone somewhere little bit rattled environment secretary margaret beckett rejected howard comment telling radio programme labour rattled real duty try get people focus michael howard record proposal trying put forward country also many example seeing believe really poor judgement behalf howard said tory policy school tax immigration crime striking chord voter since beginning year election year making political weather told party conference howard denied playing politics raising case margaret dixon whose operation cancelled seven time grabbed headline party two week ago hit back labour claim used mr dixon human shield human shield blair human howard said party plan immigration quota also focus much medium coverage racist common sense pledged cleaner hospital better school discipline promise get rid political correctness national curriculum give everyone chance decent state education come ordinary family teenage michael howard applying cambridge today gordon brown would love stressed party commitment cut tax red tape increase basic state pension line earnings finished personal appeal party activist win next election one day able tell child grandchild tell mine bit played part helped win famous election election transformed country better labour election ordinator alan milburn said michael howard speech today confirms always said strategy opportunism forward vision country reference appearance howard family conference stage milburn said michael howard perfectly entitled pose family today hard working family across britain damaged plan cut public spending\n",
            "---\n",
            "Original Text:\n",
            "blair prepares to name poll date tony blair is likely to name 5 may as election day when parliament returns from its easter break  the bbc s political editor has learned.  andrew marr says mr blair will ask the queen on 4 or 5 april to dissolve parliament at the end of that week. mr blair has so far resisted calls for him to name the day but all parties have stepped up campaigning recently. downing street would not be drawn on the claim  saying election timing was a matter for the prime minister.  a number 10 spokeswoman would only say:  he will announce an election when he wants to announce an election.  the move will signal a frantic week at westminster as the government is likely to try to get key legislation through parliament. the government needs its finance bill  covering the budget plans  to be passed before the commons closes for business at the end of the session on 7 april.  but it will also seek to push through its serious and organised crime bill and id cards bill. mr marr said on wednesday s today programme:  there s almost nobody at a senior level inside the government or in parliament itself who doesn t expect the election to be called on 4 or 5 april.  as soon as the commons is back after the short easter recess  tony blair whips up to the palace  asks the queen to dissolve parliament ... and we re going.  the labour government officially has until june 2006 to hold general election  but in recent years governments have favoured four-year terms.\n",
            "\n",
            "Processed Text:\n",
            "blair prepares name poll date tony blair likely name may election day parliament return easter break bbc political editor learned andrew marr say blair ask queen april dissolve parliament end week blair far resisted call name day party stepped campaigning recently downing street would drawn claim saying election timing matter prime minister number spokeswoman would say announce election want announce election move signal frantic week westminster government likely try get key legislation parliament government need finance bill covering budget plan passed common close business end session april also seek push serious organised crime bill card bill marr said wednesday today programme almost nobody senior level inside government parliament expect election called april soon common back short easter recess tony blair whip palace asks queen dissolve parliament going labour government officially june hold general election recent year government favoured four year term\n",
            "---\n",
            "Original Text:\n",
            "henman hopes ended in dubai third seed tim henman slumped to a straight sets defeat in his rain-interrupted dubai open quarter-final against ivan ljubicic.  the croatian eighth seed booked his place in the last four with a 7-5 6-4 victory over the british number one. henman had looked on course to level the match after going 2-0 up in the second set  but his progress was halted as the rain intervened again. ljubicic hit back after the break to seal a fourth straight win over henman. earlier in the day  spanish fifth seed tommy robredo secured his semi-final place when he beat nicolas kiefer of germany 6-4 6-4. afterwards  henman was left cursing the weather and the umpire after seven breaks for rain during the match.  it was incredibly frustrating   henman said.  it s raining and the umpire doesn t take control.  he kept telling us to play till the end of the game. but if it s raining  you come off - the score s irrelevant.  it couldn t be more frustrating as i was very happy with my form until now. you don t expect this in the desert.\n",
            "\n",
            "Processed Text:\n",
            "henman hope ended dubai third seed tim henman slumped straight set defeat rain interrupted dubai open quarter final ivan ljubicic croatian eighth seed booked place last four victory british number one henman looked course level match going second set progress halted rain intervened ljubicic hit back break seal fourth straight win henman earlier day spanish fifth seed tommy robredo secured semi final place beat nicolas kiefer germany afterwards henman left cursing weather umpire seven break rain match incredibly frustrating henman said raining umpire take control kept telling play till end game raining come score irrelevant frustrating happy form expect desert\n",
            "---\n",
            "Original Text:\n",
            "wilkinson fit to face edinburgh england captain jonny wilkinson will make his long-awaited return from injury against edinburgh on saturday.  wilkinson  who has not played since injuring his bicep on 17 october  took part in full-contact training with newcastle falcons on wednesday. and the 25-year-old fly-half will start saturday s heineken cup match at murrayfield on the bench. but newcastle director of rugby rob andrew said:  he s fine and we hope to get him into the game at some stage.  the 25-year-old missed england s autumn internationals after aggravating the haematoma in his upper right arm against saracens. he was subsequently replaced as england captain by full-back jason robinson. sale s charlie hodgson took over the number 10 shirt in the internationals against canada  south africa and australia. wilkinson s year has been disrupted by injury as his muscle problem followed eight months on the sidelines with a shoulder injury sustained in the world cup final.\n",
            "\n",
            "Processed Text:\n",
            "wilkinson fit face edinburgh england captain jonny wilkinson make long awaited return injury edinburgh saturday wilkinson played since injuring bicep october took part full contact training newcastle falcon wednesday fly half start saturday heineken cup match murrayfield bench newcastle director rugby rob andrew said fine hope get game stage missed england autumn international aggravating haematoma upper right arm saracen subsequently replaced england captain full back jason robinson sale charlie hodgson took number shirt international canada south africa australia wilkinson year disrupted injury muscle problem followed eight month sideline shoulder injury sustained world cup final\n",
            "---\n",
            "Original Text:\n",
            "last star wars  not for children  the sixth and final star wars movie may not be suitable for young children  film-maker george lucas has said.  he told us tv show 60 minutes that revenge of the sith would be the darkest and most violent of the series.  i don t think i would take a five or six-year-old to this   he told the cbs programme  to be aired on sunday. lucas predicted the film would get a us rating advising parents some scenes may be unsuitable for under-13s. it opens in the uk and us on 19 may. he said he expected the film would be classified pg-13 - roughly equivalent to a british 12a rating.  the five previous star wars films have all carried less restrictive pg - parental guidance - ratings in the us. in the uk  they have all been passed u - suitable for all - with the exception of attack of the clones  which got a pg rating in 2002. revenge of the sith - the third prequel to the original 1977 star wars film - chronicles the transformation of the heroic anakin skywalker into the evil darth vader as he travels to a hell-like planet composed of erupting volcanoes and molten lava.  we re going to watch him make a pact with the devil   lucas said.  the film is much more dark  more emotional. it s much more of a tragedy.\n",
            "\n",
            "Processed Text:\n",
            "last star war child sixth final star war movie may suitable young child film maker george lucas said told show minute revenge sith would darkest violent series think would take five six year old told cbs programme aired sunday lucas predicted film would get rating advising parent scene may unsuitable open may said expected film would classified roughly equivalent british rating five previous star war film carried less restrictive parental guidance rating passed suitable exception attack clone got rating revenge sith third prequel original star war film chronicle transformation heroic anakin skywalker evil darth vader travel hell like planet composed erupting volcano molten lava going watch make pact devil lucas said film much dark emotional much tragedy\n",
            "---\n"
          ]
        }
      ]
    },
    {
      "cell_type": "markdown",
      "source": [
        "**2. Pembobotan Kata**"
      ],
      "metadata": {
        "id": "LhbAFH_jLJ0D"
      }
    },
    {
      "cell_type": "code",
      "source": [
        "# Membuat TF-IDF Vectorizer\n",
        "tfidf_vectorizer = TfidfVectorizer(max_features=1000) # Tentukan jumlah fitur yang diinginkan\n",
        "tfidf_matrix = tfidf_vectorizer.fit_transform(df['text']) # Transform teks menjadi matriks numerik\n",
        "\n",
        "# Get feature names (words)\n",
        "feature_names = tfidf_vectorizer.get_feature_names_out()\n",
        "\n",
        "# Create a DataFrame from the TF-IDF matrix\n",
        "tfidf_df = pd.DataFrame(tfidf_matrix.toarray(), columns=feature_names)\n",
        "\n",
        "# Concatenate the TF-IDF DataFrame with the original DataFrame\n",
        "df = pd.concat([df, tfidf_df], axis=1)\n",
        "print(tfidf_matrix.shape) # (jumlah dokumen, jumlah fitur)\n",
        "print(df.head()) # Menampilkan beberapa baris pertama dari dataframe yang sudah di update dengan bobot kata"
      ],
      "metadata": {
        "colab": {
          "base_uri": "https://localhost:8080/"
        },
        "id": "uiVcfiJELVMz",
        "outputId": "3dfee304-0c81-43fd-dc7b-aae08c553010"
      },
      "execution_count": null,
      "outputs": [
        {
          "output_type": "stream",
          "name": "stdout",
          "text": [
            "(2225, 1000)\n",
            "        category                                               text   ability  \\\n",
            "0           tech  future hand viewer home theatre system plasma ...  0.000000   \n",
            "1       business  worldcom bos left book alone former worldcom b...  0.101486   \n",
            "2          sport  tiger wary farrell gamble leicester say rushed...  0.000000   \n",
            "3          sport  yeading face newcastle cup premiership side ne...  0.000000   \n",
            "4  entertainment  ocean twelve raid box office ocean twelve crim...  0.000000   \n",
            "\n",
            "   able  access  according  account   accused    across  act  ...  worth  \\\n",
            "0   0.0     0.0   0.033695      0.0  0.000000  0.000000  0.0  ...    0.0   \n",
            "1   0.0     0.0   0.000000      0.0  0.094531  0.000000  0.0  ...    0.0   \n",
            "2   0.0     0.0   0.000000      0.0  0.000000  0.088462  0.0  ...    0.0   \n",
            "3   0.0     0.0   0.000000      0.0  0.000000  0.000000  0.0  ...    0.0   \n",
            "4   0.0     0.0   0.083999      0.0  0.000000  0.099015  0.0  ...    0.0   \n",
            "\n",
            "      would  written  wrong      year       yet      york  young  yukos  \\\n",
            "0  0.000000      0.0    0.0  0.034743  0.037735  0.000000    0.0    0.0   \n",
            "1  0.000000      0.0    0.0  0.000000  0.000000  0.000000    0.0    0.0   \n",
            "2  0.086168      0.0    0.0  0.000000  0.000000  0.000000    0.0    0.0   \n",
            "3  0.000000      0.0    0.0  0.000000  0.000000  0.000000    0.0    0.0   \n",
            "4  0.000000      0.0    0.0  0.000000  0.000000  0.110699    0.0    0.0   \n",
            "\n",
            "   zealand  \n",
            "0      0.0  \n",
            "1      0.0  \n",
            "2      0.0  \n",
            "3      0.0  \n",
            "4      0.0  \n",
            "\n",
            "[5 rows x 1002 columns]\n"
          ]
        }
      ]
    },
    {
      "cell_type": "markdown",
      "source": [
        "**3. Reduksi Dimensi dengan SVD**"
      ],
      "metadata": {
        "id": "RNVSaFdBMUKT"
      }
    },
    {
      "cell_type": "code",
      "source": [
        "from sklearn.decomposition import TruncatedSVD\n",
        "\n",
        "# Set the desired number of components (reduced dimensions)\n",
        "n_components = 100 # Example: Reduce to 100 dimensions\n",
        "\n",
        "# Initialize TruncatedSVD\n",
        "svd = TruncatedSVD(n_components=n_components, random_state=42)\n",
        "\n",
        "# Fit and transform the TF-IDF matrix\n",
        "svd_matrix = svd.fit_transform(tfidf_matrix)\n",
        "\n",
        "# Create a DataFrame from the SVD matrix\n",
        "svd_df = pd.DataFrame(svd_matrix, columns=[f\"SVD_{i+1}\" for i in range(n_components)])\n",
        "\n",
        "# Concatenate the SVD DataFrame with the original DataFrame\n",
        "df = pd.concat([df, svd_df], axis=1)\n",
        "print(svd_matrix.shape)\n",
        "print(df.head())"
      ],
      "metadata": {
        "colab": {
          "base_uri": "https://localhost:8080/"
        },
        "id": "nyAQJYiTMa2L",
        "outputId": "beeeb97c-e620-4c5c-8ec3-bbddca2329dc"
      },
      "execution_count": null,
      "outputs": [
        {
          "output_type": "stream",
          "name": "stdout",
          "text": [
            "(2225, 100)\n",
            "        category                                               text   ability  \\\n",
            "0           tech  future hand viewer home theatre system plasma ...  0.000000   \n",
            "1       business  worldcom bos left book alone former worldcom b...  0.101486   \n",
            "2          sport  tiger wary farrell gamble leicester say rushed...  0.000000   \n",
            "3          sport  yeading face newcastle cup premiership side ne...  0.000000   \n",
            "4  entertainment  ocean twelve raid box office ocean twelve crim...  0.000000   \n",
            "\n",
            "   able  access  according  account   accused    across  act  ...    SVD_91  \\\n",
            "0   0.0     0.0   0.033695      0.0  0.000000  0.000000  0.0  ...  0.044184   \n",
            "1   0.0     0.0   0.000000      0.0  0.094531  0.000000  0.0  ...  0.046739   \n",
            "2   0.0     0.0   0.000000      0.0  0.000000  0.088462  0.0  ...  0.021273   \n",
            "3   0.0     0.0   0.000000      0.0  0.000000  0.000000  0.0  ...  0.034391   \n",
            "4   0.0     0.0   0.083999      0.0  0.000000  0.099015  0.0  ... -0.012632   \n",
            "\n",
            "     SVD_92    SVD_93    SVD_94    SVD_95    SVD_96    SVD_97    SVD_98  \\\n",
            "0 -0.027966 -0.065397  0.020707  0.023101  0.046225  0.027599  0.019364   \n",
            "1  0.054496  0.039328  0.043114 -0.045940 -0.016596 -0.075438  0.014123   \n",
            "2  0.099247 -0.002392 -0.077083  0.027767  0.026241 -0.057215  0.010353   \n",
            "3 -0.005468  0.000366 -0.019588  0.038197  0.031000 -0.023948  0.067980   \n",
            "4  0.038339  0.065782  0.025075  0.056373 -0.052699  0.008758  0.082636   \n",
            "\n",
            "     SVD_99   SVD_100  \n",
            "0 -0.044613 -0.025983  \n",
            "1  0.006527  0.006604  \n",
            "2 -0.000383  0.084204  \n",
            "3 -0.054296  0.020057  \n",
            "4  0.045426  0.038690  \n",
            "\n",
            "[5 rows x 1102 columns]\n"
          ]
        }
      ]
    },
    {
      "cell_type": "code",
      "source": [
        "import numpy as np\n",
        "\n",
        "# Mengatur nilai negatif menjadi nol\n",
        "svd_matrix_no_neg = np.maximum(svd_matrix, 0)\n",
        "\n",
        "# Membuat DataFrame baru dengan nilai yang sudah diperbaiki\n",
        "svd_df_no_neg = pd.DataFrame(svd_matrix_no_neg, columns=[f\"SVD_{i+1}\" for i in range(svd_matrix_no_neg.shape[1])])\n",
        "\n",
        "# Tampilkan beberapa baris pertama dari DataFrame yang sudah diperbaiki\n",
        "print(svd_df_no_neg.head())"
      ],
      "metadata": {
        "colab": {
          "base_uri": "https://localhost:8080/"
        },
        "id": "991E0LHg2jV_",
        "outputId": "a9e7d282-6a72-4a0d-9240-d9f053b34e0c"
      },
      "execution_count": null,
      "outputs": [
        {
          "output_type": "stream",
          "name": "stdout",
          "text": [
            "      SVD_1     SVD_2     SVD_3     SVD_4     SVD_5     SVD_6     SVD_7  \\\n",
            "0  0.326143  0.000000  0.129370  0.000000  0.254952  0.074528  0.006974   \n",
            "1  0.201601  0.000000  0.000000  0.000000  0.000000  0.000000  0.010466   \n",
            "2  0.270629  0.103305  0.000000  0.000000  0.006135  0.000000  0.053158   \n",
            "3  0.186701  0.200786  0.000000  0.000000  0.000000  0.000000  0.038258   \n",
            "4  0.250761  0.160565  0.176939  0.113634  0.000000  0.004870  0.027899   \n",
            "\n",
            "      SVD_8     SVD_9    SVD_10  ...    SVD_91    SVD_92    SVD_93    SVD_94  \\\n",
            "0  0.062100  0.000000  0.000000  ...  0.044184  0.000000  0.000000  0.020707   \n",
            "1  0.040843  0.016932  0.095919  ...  0.046739  0.054496  0.039328  0.043114   \n",
            "2  0.090478  0.051023  0.000000  ...  0.021273  0.099247  0.000000  0.000000   \n",
            "3  0.208775  0.000000  0.000000  ...  0.034391  0.000000  0.000366  0.000000   \n",
            "4  0.000000  0.022175  0.000000  ...  0.000000  0.038339  0.065782  0.025075   \n",
            "\n",
            "     SVD_95    SVD_96    SVD_97    SVD_98    SVD_99   SVD_100  \n",
            "0  0.023101  0.046225  0.027599  0.019364  0.000000  0.000000  \n",
            "1  0.000000  0.000000  0.000000  0.014123  0.006527  0.006604  \n",
            "2  0.027767  0.026241  0.000000  0.010353  0.000000  0.084204  \n",
            "3  0.038197  0.031000  0.000000  0.067980  0.000000  0.020057  \n",
            "4  0.056373  0.000000  0.008758  0.082636  0.045426  0.038690  \n",
            "\n",
            "[5 rows x 100 columns]\n"
          ]
        }
      ]
    },
    {
      "cell_type": "markdown",
      "source": [
        "**4. Klasifikasi Berita menggunakan Naive Bayes Classifier**"
      ],
      "metadata": {
        "id": "s1wztarcXaRR"
      }
    },
    {
      "cell_type": "code",
      "source": [
        "from sklearn.preprocessing import MinMaxScaler\n",
        "from sklearn.model_selection import train_test_split\n",
        "from sklearn.naive_bayes import MultinomialNB\n",
        "from sklearn.metrics import accuracy_score, classification_report\n",
        "\n",
        "# Pastikan kolom 'category' hanya ada satu\n",
        "# Pisahkan fitur (X) dan target (y)\n",
        "X = df.drop('category', axis=1)  # Fitur yang akan digunakan untuk pelatihan\n",
        "y = df['category']  # Target kategori\n",
        "\n",
        "# Cek apakah y memiliki lebih dari 1 kolom\n",
        "if y.ndim > 1:\n",
        "    y = y.iloc[:, 0]  # Ambil hanya kolom pertama jika ada lebih dari satu kolom\n",
        "\n",
        "# Bagi data menjadi data training dan data testing\n",
        "X_train, X_test, y_train, y_test = train_test_split(X, y, test_size=0.2, random_state=42)\n",
        "\n",
        "# Pilih fitur SVD saja untuk klasifikasi\n",
        "svd_features = [col for col in X_train.columns if col.startswith(\"SVD\")]\n",
        "X_train_svd = X_train[svd_features]\n",
        "X_test_svd = X_test[svd_features]\n",
        "\n",
        "# Normalisasi data SVD agar nilainya berada di rentang [0, 1]\n",
        "scaler = MinMaxScaler()\n",
        "X_train_svd = scaler.fit_transform(X_train_svd)\n",
        "X_test_svd = scaler.transform(X_test_svd)\n",
        "\n",
        "# Inisialisasi model Naive Bayes\n",
        "nb_classifier = MultinomialNB()\n",
        "\n",
        "# Latih model Naive Bayes dengan data training\n",
        "nb_classifier.fit(X_train_svd, y_train)\n",
        "\n",
        "# Lakukan prediksi pada data testing\n",
        "y_pred = nb_classifier.predict(X_test_svd)\n",
        "\n",
        "# Evaluasi model\n",
        "accuracy = accuracy_score(y_test, y_pred)\n",
        "print(\"Akurasi:\", accuracy)\n",
        "print(classification_report(y_test, y_pred))\n"
      ],
      "metadata": {
        "colab": {
          "base_uri": "https://localhost:8080/"
        },
        "id": "Bj1skWdQBmsK",
        "outputId": "14797e3c-d7fd-44d7-e80b-ae54560ee438"
      },
      "execution_count": null,
      "outputs": [
        {
          "output_type": "stream",
          "name": "stdout",
          "text": [
            "Akurasi: 0.7393258426966293\n",
            "               precision    recall  f1-score   support\n",
            "\n",
            "     business       0.66      0.96      0.78       101\n",
            "entertainment       1.00      0.48      0.65        81\n",
            "     politics       0.98      0.66      0.79        83\n",
            "        sport       0.60      0.99      0.75        98\n",
            "         tech       1.00      0.50      0.67        82\n",
            "\n",
            "     accuracy                           0.74       445\n",
            "    macro avg       0.85      0.72      0.73       445\n",
            " weighted avg       0.83      0.74      0.73       445\n",
            "\n"
          ]
        }
      ]
    },
    {
      "cell_type": "code",
      "source": [
        "import matplotlib.pyplot as plt\n",
        "import seaborn as sns\n",
        "from sklearn.metrics import confusion_matrix\n",
        "# Assuming y_test and y_pred are defined from your previous code\n",
        "cm = confusion_matrix(y_test, y_pred)\n",
        "plt.figure(figsize=(8, 6))\n",
        "sns.heatmap(cm, annot=True, fmt=\"d\", cmap=\"Blues\",\n",
        "xticklabels=np.unique(y_test), yticklabels=np.unique(y_test))\n",
        "plt.xlabel(\"Predicted Labels\")\n",
        "plt.ylabel(\"True Labels\")\n",
        "plt.title(\"Confusion Matrix\")\n",
        "plt.show()"
      ],
      "metadata": {
        "colab": {
          "base_uri": "https://localhost:8080/",
          "height": 564
        },
        "id": "kJCsiwb5s5oR",
        "outputId": "fd002cd1-eb2e-4d6f-e085-dcfb39aaf4f8"
      },
      "execution_count": null,
      "outputs": [
        {
          "output_type": "display_data",
          "data": {
            "text/plain": [
              "<Figure size 800x600 with 2 Axes>"
            ],
            "image/png": "[encoded data removed]"
          },
          "metadata": {}
        }
      ]
    },
    {
      "cell_type": "markdown",
      "source": [
        "**5. Klasikasi Berita menggunakan RNN**"
      ],
      "metadata": {
        "id": "i9_ustSftCjo"
      }
    },
    {
      "cell_type": "code",
      "source": [
        "import tensorflow as tf\n",
        "from tensorflow.keras.models import Sequential\n",
        "from tensorflow.keras.layers import Embedding, LSTM, Dense\n",
        "from tensorflow.keras.preprocessing.text import Tokenizer\n",
        "from tensorflow.keras.preprocessing.sequence import pad_sequences\n",
        "\n",
        "# Tokenisasi teks\n",
        "tokenizer = Tokenizer(num_words=1000) # Sesuaikan num_words sesuai kebutuhan\n",
        "tokenizer.fit_on_texts(X_train['text'])\n",
        "X_train_seq = tokenizer.texts_to_sequences(X_train['text'])\n",
        "X_test_seq = tokenizer.texts_to_sequences(X_test['text'])\n",
        "\n",
        "# Padding sequence\n",
        "max_length = max(len(seq) for seq in X_train_seq) # Tentukan panjang maksimum sequence\n",
        "X_train_pad = pad_sequences(X_train_seq, maxlen=max_length)\n",
        "X_test_pad = pad_sequences(X_test_seq, maxlen=max_length)\n",
        "\n",
        "# One-hot encode the labels\n",
        "from sklearn.preprocessing import LabelEncoder\n",
        "le = LabelEncoder()\n",
        "y_train_encoded = le.fit_transform(y_train)\n",
        "y_test_encoded = le.transform(y_test)\n",
        "num_classes = len(le.classes_)\n",
        "y_train_onehot = tf.keras.utils.to_categorical(y_train_encoded, num_classes=num_classes)\n",
        "y_test_onehot = tf.keras.utils.to_categorical(y_test_encoded, num_classes=num_classes)\n",
        "\n",
        "# Membuat model RNN\n",
        "model = Sequential()\n",
        "model.add(Embedding(1000, 128, input_length=max_length)) # Sesuaikan embedding dimension sesuai kebutuhan\n",
        "model.add(LSTM(64)) # Sesuaikan units sesuai kebutuhan\n",
        "model.add(Dense(num_classes, activation='softmax'))\n",
        "\n",
        "# Compile model\n",
        "model.compile(optimizer='adam', loss='categorical_crossentropy', metrics=['accuracy'])\n",
        "\n",
        "# Latih model\n",
        "model.fit(X_train_pad, y_train_onehot, epochs=10, batch_size=64, validation_split=0.2) # Sesuaikan epoch dan batch size\n",
        "\n",
        "# Evaluasi model\n",
        "loss, accuracy = model.evaluate(X_test_pad, y_test_onehot)\n",
        "print('Test accuracy:', accuracy)\n",
        "\n",
        "# Prediksi\n",
        "y_pred_rnn = model.predict(X_test_pad)\n",
        "y_pred_classes_rnn = np.argmax(y_pred_rnn, axis=1)\n",
        "\n",
        "# Membuat classification report untuk RNN\n",
        "print(classification_report(y_test_encoded, y_pred_classes_rnn, target_names=le.classes_))\n",
        "\n",
        "# Confusion matrix\n",
        "cm_rnn = confusion_matrix(y_test_encoded, y_pred_classes_rnn)\n",
        "plt.figure(figsize=(8, 6))\n",
        "sns.heatmap(cm_rnn, annot=True, fmt=\"d\", cmap=\"Blues\",\n",
        "xticklabels=le.classes_, yticklabels=le.classes_)\n",
        "plt.xlabel(\"Predicted Labels\")\n",
        "plt.ylabel(\"True Labels\")\n",
        "plt.title(\"Confusion Matrix (RNN)\")\n",
        "plt.show()"
      ],
      "metadata": {
        "colab": {
          "base_uri": "https://localhost:8080/",
          "height": 1000
        },
        "id": "27IgeJqhtJ3F",
        "outputId": "2a3af7ba-2244-4984-f875-17ec976bc878"
      },
      "execution_count": null,
      "outputs": [
        {
          "output_type": "stream",
          "name": "stdout",
          "text": [
            "Epoch 1/10\n"
          ]
        },
        {
          "output_type": "stream",
          "name": "stderr",
          "text": [
            "/usr/local/lib/python3.10/dist-packages/keras/src/layers/core/embedding.py:90: UserWarning: Argument `input_length` is deprecated. Just remove it.\n",
            "  warnings.warn(\n"
          ]
        },
        {
          "output_type": "stream",
          "name": "stdout",
          "text": [
            "\u001b[1m23/23\u001b[0m \u001b[32m━━━━━━━━━━━━━━━━━━━━\u001b[0m\u001b[37m\u001b[0m \u001b[1m35s\u001b[0m 1s/step - accuracy: 0.3522 - loss: 1.5854 - val_accuracy: 0.6039 - val_loss: 1.1971\n",
            "Epoch 2/10\n",
            "\u001b[1m23/23\u001b[0m \u001b[32m━━━━━━━━━━━━━━━━━━━━\u001b[0m\u001b[37m\u001b[0m \u001b[1m41s\u001b[0m 1s/step - accuracy: 0.5855 - loss: 1.0750 - val_accuracy: 0.8652 - val_loss: 0.6436\n",
            "Epoch 3/10\n",
            "\u001b[1m23/23\u001b[0m \u001b[32m━━━━━━━━━━━━━━━━━━━━\u001b[0m\u001b[37m\u001b[0m \u001b[1m41s\u001b[0m 1s/step - accuracy: 0.8980 - loss: 0.5698 - val_accuracy: 0.9185 - val_loss: 0.3712\n",
            "Epoch 4/10\n",
            "\u001b[1m23/23\u001b[0m \u001b[32m━━━━━━━━━━━━━━━━━━━━\u001b[0m\u001b[37m\u001b[0m \u001b[1m42s\u001b[0m 1s/step - accuracy: 0.9414 - loss: 0.2671 - val_accuracy: 0.9101 - val_loss: 0.3246\n",
            "Epoch 5/10\n",
            "\u001b[1m23/23\u001b[0m \u001b[32m━━━━━━━━━━━━━━━━━━━━\u001b[0m\u001b[37m\u001b[0m \u001b[1m33s\u001b[0m 1s/step - accuracy: 0.9476 - loss: 0.2187 - val_accuracy: 0.9438 - val_loss: 0.2238\n",
            "Epoch 6/10\n",
            "\u001b[1m23/23\u001b[0m \u001b[32m━━━━━━━━━━━━━━━━━━━━\u001b[0m\u001b[37m\u001b[0m \u001b[1m36s\u001b[0m 2s/step - accuracy: 0.9762 - loss: 0.1154 - val_accuracy: 0.9242 - val_loss: 0.2701\n",
            "Epoch 7/10\n",
            "\u001b[1m23/23\u001b[0m \u001b[32m━━━━━━━━━━━━━━━━━━━━\u001b[0m\u001b[37m\u001b[0m \u001b[1m33s\u001b[0m 1s/step - accuracy: 0.9827 - loss: 0.1074 - val_accuracy: 0.9607 - val_loss: 0.1672\n",
            "Epoch 8/10\n",
            "\u001b[1m23/23\u001b[0m \u001b[32m━━━━━━━━━━━━━━━━━━━━\u001b[0m\u001b[37m\u001b[0m \u001b[1m40s\u001b[0m 1s/step - accuracy: 0.9943 - loss: 0.0510 - val_accuracy: 0.9663 - val_loss: 0.1542\n",
            "Epoch 9/10\n",
            "\u001b[1m23/23\u001b[0m \u001b[32m━━━━━━━━━━━━━━━━━━━━\u001b[0m\u001b[37m\u001b[0m \u001b[1m41s\u001b[0m 1s/step - accuracy: 0.9974 - loss: 0.0327 - val_accuracy: 0.9438 - val_loss: 0.2495\n",
            "Epoch 10/10\n",
            "\u001b[1m23/23\u001b[0m \u001b[32m━━━━━━━━━━━━━━━━━━━━\u001b[0m\u001b[37m\u001b[0m \u001b[1m42s\u001b[0m 1s/step - accuracy: 0.9893 - loss: 0.0644 - val_accuracy: 0.9354 - val_loss: 0.2173\n",
            "\u001b[1m14/14\u001b[0m \u001b[32m━━━━━━━━━━━━━━━━━━━━\u001b[0m\u001b[37m\u001b[0m \u001b[1m2s\u001b[0m 143ms/step - accuracy: 0.8974 - loss: 0.3674\n",
            "Test accuracy: 0.898876428604126\n",
            "\u001b[1m14/14\u001b[0m \u001b[32m━━━━━━━━━━━━━━━━━━━━\u001b[0m\u001b[37m\u001b[0m \u001b[1m2s\u001b[0m 157ms/step\n",
            "               precision    recall  f1-score   support\n",
            "\n",
            "     business       0.91      0.84      0.88       101\n",
            "entertainment       0.89      0.89      0.89        81\n",
            "     politics       0.87      0.92      0.89        83\n",
            "        sport       0.99      0.88      0.93        98\n",
            "         tech       0.84      0.99      0.91        82\n",
            "\n",
            "     accuracy                           0.90       445\n",
            "    macro avg       0.90      0.90      0.90       445\n",
            " weighted avg       0.90      0.90      0.90       445\n",
            "\n"
          ]
        },
        {
          "output_type": "display_data",
          "data": {
            "text/plain": [
              "<Figure size 800x600 with 2 Axes>"
            ],
            "image/png": "[encoded data removed]"
          },
          "metadata": {}
        }
      ]
    },
    {
      "cell_type": "markdown",
      "source": [
        "**6. Prediksi Berita menggunakan NBC**"
      ],
      "metadata": {
        "id": "rW-c4qUYUKf3"
      }
    },
    {
      "cell_type": "code",
      "source": [
        "# prompt: prediksi berita menggunakan model nbc di atas\n",
        "\n",
        "# Input text for prediction\n",
        "input_text = \"Barcelona suffered a surprise defeat at home to Leganes to see their lead at the top of La Liga cut. Hansi Flick's side are only above Atletico Madrid on goal difference and one point above third-placed Real Madrid. Leganes, who move up to 15th, took the lead in the fourth minute when Sergio Gonzalez headed in from Oscar Rodriguez's corner. That would prove to be the only goal of the game. Barcelona dominated, with 20 shots in total, and the closest they came was when Raphinha's half-volley from Alex Balde's cross hit the bar. Earlier on Sunday Atletico beat Getafe 1-0 to move level on points with Barcelona Champions Real drew 3-3 at Rayo Vallecano on Saturday.\" #@param {type:\"string\"}\n",
        "\n",
        "# Preprocess the input text\n",
        "processed_input = processCorpus([input_text], 'english')\n",
        "\n",
        "# Transform the input text using TF-IDF\n",
        "input_tfidf = tfidf_vectorizer.transform(processed_input)\n",
        "\n",
        "# Reduce dimensions using SVD\n",
        "input_svd = svd.transform(input_tfidf)\n",
        "\n",
        "# Normalize the SVD features\n",
        "input_svd = scaler.transform(input_svd)\n",
        "\n",
        "\n",
        "# Make prediction using the trained Naive Bayes classifier\n",
        "prediction = nb_classifier.predict(input_svd)\n",
        "\n",
        "# Print the predicted category\n",
        "print(\"Predicted Category:\", prediction[0])"
      ],
      "metadata": {
        "colab": {
          "base_uri": "https://localhost:8080/"
        },
        "id": "G1MiiuDIUR2U",
        "outputId": "c33cc4e4-0f70-4535-bbee-06ca896f8391"
      },
      "execution_count": null,
      "outputs": [
        {
          "output_type": "stream",
          "name": "stdout",
          "text": [
            "Predicted Category: sport\n"
          ]
        },
        {
          "output_type": "stream",
          "name": "stderr",
          "text": [
            "/usr/local/lib/python3.10/dist-packages/sklearn/base.py:493: UserWarning: X does not have valid feature names, but MinMaxScaler was fitted with feature names\n",
            "  warnings.warn(\n"
          ]
        }
      ]
    },
    {
      "cell_type": "markdown",
      "source": [
        "**7. Prediksi Berita menggunakan RNN**"
      ],
      "metadata": {
        "id": "1M2eEu9BYe-U"
      }
    },
    {
      "cell_type": "code",
      "source": [
        "# prompt: prediksi berita menggunakan model rnn di atas\n",
        "\n",
        "from tensorflow.keras.preprocessing.sequence import pad_sequences\n",
        "from sklearn.preprocessing import LabelEncoder\n",
        "\n",
        "# Input text for prediction\n",
        "input_text = \"Barcelona suffered a surprise defeat at home to Leganes to see their lead at the top of La Liga cut. Hansi Flick's side are only above Atletico Madrid on goal difference and one point above third-placed Real Madrid. Leganes, who move up to 15th, took the lead in the fourth minute when Sergio Gonzalez headed in from Oscar Rodriguez's corner. That would prove to be the only goal of the game. Barcelona dominated, with 20 shots in total, and the closest they came was when Raphinha's half-volley from Alex Balde's cross hit the bar. Earlier on Sunday Atletico beat Getafe 1-0 to move level on points with Barcelona Champions Real drew 3-3 at Rayo Vallecano on Saturday.\" #@param {type:\"string\"}\n",
        "\n",
        "# Preprocess the input text\n",
        "processed_input = processCorpus([input_text], 'english')\n",
        "\n",
        "# Tokenize and pad the input text\n",
        "input_seq = tokenizer.texts_to_sequences(processed_input)\n",
        "input_pad = pad_sequences(input_seq, maxlen=max_length)\n",
        "\n",
        "# Make prediction using the trained RNN model\n",
        "prediction_rnn = model.predict(input_pad)\n",
        "predicted_class_rnn = np.argmax(prediction_rnn, axis=1)\n",
        "\n",
        "# Get the predicted category using the LabelEncoder\n",
        "predicted_category_rnn = le.inverse_transform(predicted_class_rnn)\n",
        "\n",
        "# Print the predicted category\n",
        "print(\"Predicted Category (RNN):\", predicted_category_rnn[0])"
      ],
      "metadata": {
        "colab": {
          "base_uri": "https://localhost:8080/"
        },
        "id": "wHvBEa6rYms9",
        "outputId": "99a8c09f-6dc5-4c94-fe99-15e7c916ad8a"
      },
      "execution_count": null,
      "outputs": [
        {
          "output_type": "stream",
          "name": "stdout",
          "text": [
            "\u001b[1m1/1\u001b[0m \u001b[32m━━━━━━━━━━━━━━━━━━━━\u001b[0m\u001b[37m\u001b[0m \u001b[1m0s\u001b[0m 101ms/step\n",
            "Predicted Category (RNN): sport\n"
          ]
        }
      ]
    },
    {
      "cell_type": "markdown",
      "source": [
        "**Contoh Teks Berita untuk prediksi :**\n",
        "\n",
        "**Teks 1 :** Barcelona suffered a surprise defeat at home to Leganes to see their lead at the top of La Liga cut. Hansi Flick's side are only above Atletico Madrid on goal difference and one point above third-placed Real Madrid. Leganes, who move up to 15th, took the lead in the fourth minute when Sergio Gonzalez headed in from Oscar Rodriguez's corner. That would prove to be the only goal of the game. Barcelona dominated, with 20 shots in total, and the closest they came was when Raphinha's half-volley from Alex Balde's cross hit the bar. Earlier on Sunday Atletico beat Getafe 1-0 to move level on points with Barcelona Champions Real drew 3-3 at Rayo Vallecano on Saturday.\n",
        "\n",
        "Kategori : sport\n",
        "\n",
        "link : [link text](https://www.bbc.com/sport/football/live/ckgn2n8kzqvt)\n",
        "\n",
        "\n",
        "\n",
        "**Teks 2 :** Motorists under the influence of alcohol or drugs could be caught by a pioneering AI camera which is being tested for the first time in Devon and Cornwall. The state-of-the-art Heads-Up machine can detect road use and behaviour consistent with drivers who may be impaired by drink or drugs. Police further up the road can stop the vehicle, talk to the driver and do a roadside test for alcohol and illegal drugs. Geoff Collins, UK general manager of camera developer Acusensus, said: \"We are delighted to be conducting the world's first trials of this technology right here in Devon and Cornwall. The camera can be moved quickly to any road in either county, without warning, with drivers unaware they have been spotted until police pull them over. \"We are all safer if we can detect impairment before it causes an incident that could ruin lives,\" said Mr Collins. Acusensus cameras have previously been used to help police catch drivers using mobile phones at the wheel or not wearing seatbelts. With drink-drivers six times more likely to be involved in a fatal crash, Devon & Cornwall Police are hoping the Heads-Up system will help to save lives.\n",
        "\n",
        "Kategori : Technology\n",
        "\n",
        "Link : [link text](https://www.bbc.com/news/articles/cj0rqz003zdo)"
      ],
      "metadata": {
        "id": "iAnXxTKKIGFb"
      }
    }
  ]
}